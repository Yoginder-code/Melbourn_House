{
 "cells": [
  {
   "cell_type": "code",
   "execution_count": 1,
   "id": "f862f278",
   "metadata": {
    "execution": {
     "iopub.execute_input": "2023-09-02T10:51:29.813034Z",
     "iopub.status.busy": "2023-09-02T10:51:29.812594Z",
     "iopub.status.idle": "2023-09-02T10:51:30.221840Z",
     "shell.execute_reply": "2023-09-02T10:51:30.220699Z"
    },
    "papermill": {
     "duration": 0.424818,
     "end_time": "2023-09-02T10:51:30.224783",
     "exception": false,
     "start_time": "2023-09-02T10:51:29.799965",
     "status": "completed"
    },
    "tags": []
   },
   "outputs": [],
   "source": [
    "# In this notebook we will try to solve the prolem of overfitting by using L1 and L2 regularization technique.\n",
    "import pandas as pd\n",
    "import numpy as np\n"
   ]
  },
  {
   "cell_type": "code",
   "execution_count": 2,
   "id": "841b18b3",
   "metadata": {
    "execution": {
     "iopub.execute_input": "2023-09-02T10:51:30.246820Z",
     "iopub.status.busy": "2023-09-02T10:51:30.246318Z",
     "iopub.status.idle": "2023-09-02T10:51:30.578140Z",
     "shell.execute_reply": "2023-09-02T10:51:30.576906Z"
    },
    "papermill": {
     "duration": 0.347055,
     "end_time": "2023-09-02T10:51:30.582098",
     "exception": false,
     "start_time": "2023-09-02T10:51:30.235043",
     "status": "completed"
    },
    "tags": []
   },
   "outputs": [
    {
     "name": "stderr",
     "output_type": "stream",
     "text": [
      "/tmp/ipykernel_20/440233875.py:1: DtypeWarning: Columns (13) have mixed types. Specify dtype option on import or set low_memory=False.\n",
      "  df = pd.read_csv('/kaggle/input/melbourne-housing-dataset/Melbourne_housing.csv')\n"
     ]
    },
    {
     "data": {
      "text/html": [
       "<div>\n",
       "<style scoped>\n",
       "    .dataframe tbody tr th:only-of-type {\n",
       "        vertical-align: middle;\n",
       "    }\n",
       "\n",
       "    .dataframe tbody tr th {\n",
       "        vertical-align: top;\n",
       "    }\n",
       "\n",
       "    .dataframe thead th {\n",
       "        text-align: right;\n",
       "    }\n",
       "</style>\n",
       "<table border=\"1\" class=\"dataframe\">\n",
       "  <thead>\n",
       "    <tr style=\"text-align: right;\">\n",
       "      <th></th>\n",
       "      <th>Suburb</th>\n",
       "      <th>Address</th>\n",
       "      <th>Rooms</th>\n",
       "      <th>Type</th>\n",
       "      <th>Method</th>\n",
       "      <th>SellerG</th>\n",
       "      <th>Date</th>\n",
       "      <th>Distance</th>\n",
       "      <th>Postcode</th>\n",
       "      <th>Bedroom</th>\n",
       "      <th>...</th>\n",
       "      <th>Landsize</th>\n",
       "      <th>BuildingArea</th>\n",
       "      <th>YearBuilt</th>\n",
       "      <th>CouncilArea</th>\n",
       "      <th>Latitude</th>\n",
       "      <th>Longtitude</th>\n",
       "      <th>Regionname</th>\n",
       "      <th>Propertycount</th>\n",
       "      <th>ParkingArea</th>\n",
       "      <th>Price</th>\n",
       "    </tr>\n",
       "  </thead>\n",
       "  <tbody>\n",
       "    <tr>\n",
       "      <th>0</th>\n",
       "      <td>Abbotsford</td>\n",
       "      <td>68 Studley St</td>\n",
       "      <td>2</td>\n",
       "      <td>h</td>\n",
       "      <td>SS</td>\n",
       "      <td>Jellis</td>\n",
       "      <td>3/9/2016</td>\n",
       "      <td>2.5</td>\n",
       "      <td>3067.0</td>\n",
       "      <td>2.0</td>\n",
       "      <td>...</td>\n",
       "      <td>126.0</td>\n",
       "      <td>inf</td>\n",
       "      <td>NaN</td>\n",
       "      <td>Yarra City Council</td>\n",
       "      <td>-37.80140</td>\n",
       "      <td>144.99580</td>\n",
       "      <td>Northern Metropolitan</td>\n",
       "      <td>4019.0</td>\n",
       "      <td>Carport</td>\n",
       "      <td>NaN</td>\n",
       "    </tr>\n",
       "    <tr>\n",
       "      <th>1</th>\n",
       "      <td>Airport West</td>\n",
       "      <td>154 Halsey Rd</td>\n",
       "      <td>3</td>\n",
       "      <td>t</td>\n",
       "      <td>PI</td>\n",
       "      <td>Nelson</td>\n",
       "      <td>3/9/2016</td>\n",
       "      <td>13.5</td>\n",
       "      <td>3042.0</td>\n",
       "      <td>3.0</td>\n",
       "      <td>...</td>\n",
       "      <td>303.0</td>\n",
       "      <td>225</td>\n",
       "      <td>2016.0</td>\n",
       "      <td>Moonee Valley City Council</td>\n",
       "      <td>-37.71800</td>\n",
       "      <td>144.87800</td>\n",
       "      <td>Western Metropolitan</td>\n",
       "      <td>3464.0</td>\n",
       "      <td>Detached Garage</td>\n",
       "      <td>840000.0</td>\n",
       "    </tr>\n",
       "    <tr>\n",
       "      <th>2</th>\n",
       "      <td>Albert Park</td>\n",
       "      <td>105 Kerferd Rd</td>\n",
       "      <td>2</td>\n",
       "      <td>h</td>\n",
       "      <td>S</td>\n",
       "      <td>hockingstuart</td>\n",
       "      <td>3/9/2016</td>\n",
       "      <td>3.3</td>\n",
       "      <td>3206.0</td>\n",
       "      <td>2.0</td>\n",
       "      <td>...</td>\n",
       "      <td>120.0</td>\n",
       "      <td>82</td>\n",
       "      <td>1900.0</td>\n",
       "      <td>Port Phillip City Council</td>\n",
       "      <td>-37.84590</td>\n",
       "      <td>144.95550</td>\n",
       "      <td>Southern Metropolitan</td>\n",
       "      <td>3280.0</td>\n",
       "      <td>Attached Garage</td>\n",
       "      <td>1275000.0</td>\n",
       "    </tr>\n",
       "    <tr>\n",
       "      <th>3</th>\n",
       "      <td>Albert Park</td>\n",
       "      <td>85 Richardson St</td>\n",
       "      <td>2</td>\n",
       "      <td>h</td>\n",
       "      <td>S</td>\n",
       "      <td>Thomson</td>\n",
       "      <td>3/9/2016</td>\n",
       "      <td>3.3</td>\n",
       "      <td>3206.0</td>\n",
       "      <td>2.0</td>\n",
       "      <td>...</td>\n",
       "      <td>159.0</td>\n",
       "      <td>inf</td>\n",
       "      <td>NaN</td>\n",
       "      <td>Port Phillip City Council</td>\n",
       "      <td>-37.84500</td>\n",
       "      <td>144.95380</td>\n",
       "      <td>Southern Metropolitan</td>\n",
       "      <td>3280.0</td>\n",
       "      <td>Indoor</td>\n",
       "      <td>1455000.0</td>\n",
       "    </tr>\n",
       "    <tr>\n",
       "      <th>4</th>\n",
       "      <td>Alphington</td>\n",
       "      <td>30 Austin St</td>\n",
       "      <td>3</td>\n",
       "      <td>h</td>\n",
       "      <td>SN</td>\n",
       "      <td>McGrath</td>\n",
       "      <td>3/9/2016</td>\n",
       "      <td>6.4</td>\n",
       "      <td>3078.0</td>\n",
       "      <td>3.0</td>\n",
       "      <td>...</td>\n",
       "      <td>174.0</td>\n",
       "      <td>122</td>\n",
       "      <td>2003.0</td>\n",
       "      <td>Darebin City Council</td>\n",
       "      <td>-37.78180</td>\n",
       "      <td>145.01980</td>\n",
       "      <td>Northern Metropolitan</td>\n",
       "      <td>2211.0</td>\n",
       "      <td>Parkade</td>\n",
       "      <td>NaN</td>\n",
       "    </tr>\n",
       "    <tr>\n",
       "      <th>...</th>\n",
       "      <td>...</td>\n",
       "      <td>...</td>\n",
       "      <td>...</td>\n",
       "      <td>...</td>\n",
       "      <td>...</td>\n",
       "      <td>...</td>\n",
       "      <td>...</td>\n",
       "      <td>...</td>\n",
       "      <td>...</td>\n",
       "      <td>...</td>\n",
       "      <td>...</td>\n",
       "      <td>...</td>\n",
       "      <td>...</td>\n",
       "      <td>...</td>\n",
       "      <td>...</td>\n",
       "      <td>...</td>\n",
       "      <td>...</td>\n",
       "      <td>...</td>\n",
       "      <td>...</td>\n",
       "      <td>...</td>\n",
       "      <td>...</td>\n",
       "    </tr>\n",
       "    <tr>\n",
       "      <th>34852</th>\n",
       "      <td>Reservoir</td>\n",
       "      <td>18 Elinda Pl</td>\n",
       "      <td>3</td>\n",
       "      <td>u</td>\n",
       "      <td>SP</td>\n",
       "      <td>RW</td>\n",
       "      <td>30/09/2017</td>\n",
       "      <td>12.0</td>\n",
       "      <td>3073.0</td>\n",
       "      <td>3.0</td>\n",
       "      <td>...</td>\n",
       "      <td>NaN</td>\n",
       "      <td>105.0</td>\n",
       "      <td>1990.0</td>\n",
       "      <td>Darebin City Council</td>\n",
       "      <td>-37.69769</td>\n",
       "      <td>145.02332</td>\n",
       "      <td>Northern Metropolitan</td>\n",
       "      <td>21650.0</td>\n",
       "      <td>Parkade</td>\n",
       "      <td>475000.0</td>\n",
       "    </tr>\n",
       "    <tr>\n",
       "      <th>34853</th>\n",
       "      <td>Roxburgh Park</td>\n",
       "      <td>14 Stainsby Cr</td>\n",
       "      <td>4</td>\n",
       "      <td>h</td>\n",
       "      <td>S</td>\n",
       "      <td>Raine</td>\n",
       "      <td>30/09/2017</td>\n",
       "      <td>20.6</td>\n",
       "      <td>3064.0</td>\n",
       "      <td>4.0</td>\n",
       "      <td>...</td>\n",
       "      <td>NaN</td>\n",
       "      <td>225.0</td>\n",
       "      <td>1995.0</td>\n",
       "      <td>Hume City Council</td>\n",
       "      <td>-37.63665</td>\n",
       "      <td>144.92976</td>\n",
       "      <td>Northern Metropolitan</td>\n",
       "      <td>5833.0</td>\n",
       "      <td>Underground</td>\n",
       "      <td>591000.0</td>\n",
       "    </tr>\n",
       "    <tr>\n",
       "      <th>34854</th>\n",
       "      <td>Springvale South</td>\n",
       "      <td>8 Bellbird Ct</td>\n",
       "      <td>4</td>\n",
       "      <td>h</td>\n",
       "      <td>PI</td>\n",
       "      <td>Barry</td>\n",
       "      <td>30/09/2017</td>\n",
       "      <td>22.2</td>\n",
       "      <td>3172.0</td>\n",
       "      <td>4.0</td>\n",
       "      <td>...</td>\n",
       "      <td>534.0</td>\n",
       "      <td>152.0</td>\n",
       "      <td>1970.0</td>\n",
       "      <td>Greater Dandenong City Council</td>\n",
       "      <td>-37.97037</td>\n",
       "      <td>145.15449</td>\n",
       "      <td>South-Eastern Metropolitan</td>\n",
       "      <td>4054.0</td>\n",
       "      <td>Carport</td>\n",
       "      <td>NaN</td>\n",
       "    </tr>\n",
       "    <tr>\n",
       "      <th>34855</th>\n",
       "      <td>Springvale South</td>\n",
       "      <td>30 Waddington Cr</td>\n",
       "      <td>3</td>\n",
       "      <td>h</td>\n",
       "      <td>S</td>\n",
       "      <td>Harcourts</td>\n",
       "      <td>30/09/2017</td>\n",
       "      <td>22.2</td>\n",
       "      <td>3172.0</td>\n",
       "      <td>3.0</td>\n",
       "      <td>...</td>\n",
       "      <td>544.0</td>\n",
       "      <td>NaN</td>\n",
       "      <td>NaN</td>\n",
       "      <td>Greater Dandenong City Council</td>\n",
       "      <td>-37.97751</td>\n",
       "      <td>145.14813</td>\n",
       "      <td>South-Eastern Metropolitan</td>\n",
       "      <td>4054.0</td>\n",
       "      <td>Detached Garage</td>\n",
       "      <td>780500.0</td>\n",
       "    </tr>\n",
       "    <tr>\n",
       "      <th>34856</th>\n",
       "      <td>Westmeadows</td>\n",
       "      <td>42 Pascoe St</td>\n",
       "      <td>4</td>\n",
       "      <td>h</td>\n",
       "      <td>S</td>\n",
       "      <td>Barry</td>\n",
       "      <td>30/09/2017</td>\n",
       "      <td>16.5</td>\n",
       "      <td>3049.0</td>\n",
       "      <td>4.0</td>\n",
       "      <td>...</td>\n",
       "      <td>813.0</td>\n",
       "      <td>140.0</td>\n",
       "      <td>1960.0</td>\n",
       "      <td>Hume City Council</td>\n",
       "      <td>-37.67631</td>\n",
       "      <td>144.89409</td>\n",
       "      <td>Northern Metropolitan</td>\n",
       "      <td>2474.0</td>\n",
       "      <td>Attached Garage</td>\n",
       "      <td>791000.0</td>\n",
       "    </tr>\n",
       "  </tbody>\n",
       "</table>\n",
       "<p>34857 rows × 22 columns</p>\n",
       "</div>"
      ],
      "text/plain": [
       "                 Suburb           Address  Rooms Type Method        SellerG  \\\n",
       "0            Abbotsford     68 Studley St      2    h     SS         Jellis   \n",
       "1          Airport West     154 Halsey Rd      3    t     PI         Nelson   \n",
       "2           Albert Park    105 Kerferd Rd      2    h      S  hockingstuart   \n",
       "3           Albert Park  85 Richardson St      2    h      S        Thomson   \n",
       "4            Alphington      30 Austin St      3    h     SN        McGrath   \n",
       "...                 ...               ...    ...  ...    ...            ...   \n",
       "34852         Reservoir      18 Elinda Pl      3    u     SP             RW   \n",
       "34853     Roxburgh Park    14 Stainsby Cr      4    h      S          Raine   \n",
       "34854  Springvale South     8 Bellbird Ct      4    h     PI          Barry   \n",
       "34855  Springvale South  30 Waddington Cr      3    h      S      Harcourts   \n",
       "34856       Westmeadows      42 Pascoe St      4    h      S          Barry   \n",
       "\n",
       "             Date  Distance  Postcode  Bedroom  ...  Landsize  BuildingArea  \\\n",
       "0        3/9/2016       2.5    3067.0      2.0  ...     126.0           inf   \n",
       "1        3/9/2016      13.5    3042.0      3.0  ...     303.0           225   \n",
       "2        3/9/2016       3.3    3206.0      2.0  ...     120.0            82   \n",
       "3        3/9/2016       3.3    3206.0      2.0  ...     159.0           inf   \n",
       "4        3/9/2016       6.4    3078.0      3.0  ...     174.0           122   \n",
       "...           ...       ...       ...      ...  ...       ...           ...   \n",
       "34852  30/09/2017      12.0    3073.0      3.0  ...       NaN         105.0   \n",
       "34853  30/09/2017      20.6    3064.0      4.0  ...       NaN         225.0   \n",
       "34854  30/09/2017      22.2    3172.0      4.0  ...     534.0         152.0   \n",
       "34855  30/09/2017      22.2    3172.0      3.0  ...     544.0           NaN   \n",
       "34856  30/09/2017      16.5    3049.0      4.0  ...     813.0         140.0   \n",
       "\n",
       "       YearBuilt                     CouncilArea  Latitude Longtitude  \\\n",
       "0            NaN              Yarra City Council -37.80140  144.99580   \n",
       "1         2016.0      Moonee Valley City Council -37.71800  144.87800   \n",
       "2         1900.0       Port Phillip City Council -37.84590  144.95550   \n",
       "3            NaN       Port Phillip City Council -37.84500  144.95380   \n",
       "4         2003.0            Darebin City Council -37.78180  145.01980   \n",
       "...          ...                             ...       ...        ...   \n",
       "34852     1990.0            Darebin City Council -37.69769  145.02332   \n",
       "34853     1995.0               Hume City Council -37.63665  144.92976   \n",
       "34854     1970.0  Greater Dandenong City Council -37.97037  145.15449   \n",
       "34855        NaN  Greater Dandenong City Council -37.97751  145.14813   \n",
       "34856     1960.0               Hume City Council -37.67631  144.89409   \n",
       "\n",
       "                       Regionname  Propertycount      ParkingArea      Price  \n",
       "0           Northern Metropolitan         4019.0          Carport        NaN  \n",
       "1            Western Metropolitan         3464.0  Detached Garage   840000.0  \n",
       "2           Southern Metropolitan         3280.0  Attached Garage  1275000.0  \n",
       "3           Southern Metropolitan         3280.0           Indoor  1455000.0  \n",
       "4           Northern Metropolitan         2211.0          Parkade        NaN  \n",
       "...                           ...            ...              ...        ...  \n",
       "34852       Northern Metropolitan        21650.0          Parkade   475000.0  \n",
       "34853       Northern Metropolitan         5833.0      Underground   591000.0  \n",
       "34854  South-Eastern Metropolitan         4054.0          Carport        NaN  \n",
       "34855  South-Eastern Metropolitan         4054.0  Detached Garage   780500.0  \n",
       "34856       Northern Metropolitan         2474.0  Attached Garage   791000.0  \n",
       "\n",
       "[34857 rows x 22 columns]"
      ]
     },
     "execution_count": 2,
     "metadata": {},
     "output_type": "execute_result"
    }
   ],
   "source": [
    "df = pd.read_csv('/kaggle/input/melbourne-housing-dataset/Melbourne_housing.csv')\n",
    "df"
   ]
  },
  {
   "cell_type": "code",
   "execution_count": 3,
   "id": "ece8554a",
   "metadata": {
    "execution": {
     "iopub.execute_input": "2023-09-02T10:51:30.605309Z",
     "iopub.status.busy": "2023-09-02T10:51:30.604951Z",
     "iopub.status.idle": "2023-09-02T10:51:30.667748Z",
     "shell.execute_reply": "2023-09-02T10:51:30.666717Z"
    },
    "papermill": {
     "duration": 0.077578,
     "end_time": "2023-09-02T10:51:30.670286",
     "exception": false,
     "start_time": "2023-09-02T10:51:30.592708",
     "status": "completed"
    },
    "tags": []
   },
   "outputs": [
    {
     "data": {
      "text/plain": [
       "Suburb             351\n",
       "Address          34009\n",
       "Rooms               12\n",
       "Type                 3\n",
       "Method               9\n",
       "SellerG            388\n",
       "Date                78\n",
       "Distance           215\n",
       "Postcode           211\n",
       "Bedroom             15\n",
       "Bathroom            11\n",
       "Car                 15\n",
       "Landsize          1684\n",
       "BuildingArea       994\n",
       "YearBuilt          160\n",
       "CouncilArea         33\n",
       "Latitude         13402\n",
       "Longtitude       14524\n",
       "Regionname           8\n",
       "Propertycount      342\n",
       "ParkingArea          8\n",
       "Price             2871\n",
       "dtype: int64"
      ]
     },
     "execution_count": 3,
     "metadata": {},
     "output_type": "execute_result"
    }
   ],
   "source": [
    "df.nunique()"
   ]
  },
  {
   "cell_type": "code",
   "execution_count": 4,
   "id": "9cbc540e",
   "metadata": {
    "execution": {
     "iopub.execute_input": "2023-09-02T10:51:30.693774Z",
     "iopub.status.busy": "2023-09-02T10:51:30.693415Z",
     "iopub.status.idle": "2023-09-02T10:51:30.700726Z",
     "shell.execute_reply": "2023-09-02T10:51:30.699990Z"
    },
    "papermill": {
     "duration": 0.021273,
     "end_time": "2023-09-02T10:51:30.702866",
     "exception": false,
     "start_time": "2023-09-02T10:51:30.681593",
     "status": "completed"
    },
    "tags": []
   },
   "outputs": [
    {
     "data": {
      "text/plain": [
       "(34857, 22)"
      ]
     },
     "execution_count": 4,
     "metadata": {},
     "output_type": "execute_result"
    }
   ],
   "source": [
    "df.shape"
   ]
  },
  {
   "cell_type": "code",
   "execution_count": 5,
   "id": "929cc5f1",
   "metadata": {
    "execution": {
     "iopub.execute_input": "2023-09-02T10:51:30.727547Z",
     "iopub.status.busy": "2023-09-02T10:51:30.726962Z",
     "iopub.status.idle": "2023-09-02T10:51:30.764008Z",
     "shell.execute_reply": "2023-09-02T10:51:30.762917Z"
    },
    "papermill": {
     "duration": 0.052253,
     "end_time": "2023-09-02T10:51:30.766831",
     "exception": false,
     "start_time": "2023-09-02T10:51:30.714578",
     "status": "completed"
    },
    "tags": []
   },
   "outputs": [
    {
     "data": {
      "text/html": [
       "<div>\n",
       "<style scoped>\n",
       "    .dataframe tbody tr th:only-of-type {\n",
       "        vertical-align: middle;\n",
       "    }\n",
       "\n",
       "    .dataframe tbody tr th {\n",
       "        vertical-align: top;\n",
       "    }\n",
       "\n",
       "    .dataframe thead th {\n",
       "        text-align: right;\n",
       "    }\n",
       "</style>\n",
       "<table border=\"1\" class=\"dataframe\">\n",
       "  <thead>\n",
       "    <tr style=\"text-align: right;\">\n",
       "      <th></th>\n",
       "      <th>Suburb</th>\n",
       "      <th>Rooms</th>\n",
       "      <th>Type</th>\n",
       "      <th>Method</th>\n",
       "      <th>SellerG</th>\n",
       "      <th>Regionname</th>\n",
       "      <th>Propertycount</th>\n",
       "      <th>Distance</th>\n",
       "      <th>CouncilArea</th>\n",
       "      <th>Bedroom</th>\n",
       "      <th>Bathroom</th>\n",
       "      <th>Car</th>\n",
       "      <th>Landsize</th>\n",
       "      <th>BuildingArea</th>\n",
       "      <th>Price</th>\n",
       "    </tr>\n",
       "  </thead>\n",
       "  <tbody>\n",
       "    <tr>\n",
       "      <th>0</th>\n",
       "      <td>Abbotsford</td>\n",
       "      <td>2</td>\n",
       "      <td>h</td>\n",
       "      <td>SS</td>\n",
       "      <td>Jellis</td>\n",
       "      <td>Northern Metropolitan</td>\n",
       "      <td>4019.0</td>\n",
       "      <td>2.5</td>\n",
       "      <td>Yarra City Council</td>\n",
       "      <td>2.0</td>\n",
       "      <td>1.0</td>\n",
       "      <td>1.0</td>\n",
       "      <td>126.0</td>\n",
       "      <td>inf</td>\n",
       "      <td>NaN</td>\n",
       "    </tr>\n",
       "    <tr>\n",
       "      <th>1</th>\n",
       "      <td>Airport West</td>\n",
       "      <td>3</td>\n",
       "      <td>t</td>\n",
       "      <td>PI</td>\n",
       "      <td>Nelson</td>\n",
       "      <td>Western Metropolitan</td>\n",
       "      <td>3464.0</td>\n",
       "      <td>13.5</td>\n",
       "      <td>Moonee Valley City Council</td>\n",
       "      <td>3.0</td>\n",
       "      <td>2.0</td>\n",
       "      <td>1.0</td>\n",
       "      <td>303.0</td>\n",
       "      <td>225</td>\n",
       "      <td>840000.0</td>\n",
       "    </tr>\n",
       "    <tr>\n",
       "      <th>2</th>\n",
       "      <td>Albert Park</td>\n",
       "      <td>2</td>\n",
       "      <td>h</td>\n",
       "      <td>S</td>\n",
       "      <td>hockingstuart</td>\n",
       "      <td>Southern Metropolitan</td>\n",
       "      <td>3280.0</td>\n",
       "      <td>3.3</td>\n",
       "      <td>Port Phillip City Council</td>\n",
       "      <td>2.0</td>\n",
       "      <td>1.0</td>\n",
       "      <td>0.0</td>\n",
       "      <td>120.0</td>\n",
       "      <td>82</td>\n",
       "      <td>1275000.0</td>\n",
       "    </tr>\n",
       "    <tr>\n",
       "      <th>3</th>\n",
       "      <td>Albert Park</td>\n",
       "      <td>2</td>\n",
       "      <td>h</td>\n",
       "      <td>S</td>\n",
       "      <td>Thomson</td>\n",
       "      <td>Southern Metropolitan</td>\n",
       "      <td>3280.0</td>\n",
       "      <td>3.3</td>\n",
       "      <td>Port Phillip City Council</td>\n",
       "      <td>2.0</td>\n",
       "      <td>1.0</td>\n",
       "      <td>0.0</td>\n",
       "      <td>159.0</td>\n",
       "      <td>inf</td>\n",
       "      <td>1455000.0</td>\n",
       "    </tr>\n",
       "    <tr>\n",
       "      <th>4</th>\n",
       "      <td>Alphington</td>\n",
       "      <td>3</td>\n",
       "      <td>h</td>\n",
       "      <td>SN</td>\n",
       "      <td>McGrath</td>\n",
       "      <td>Northern Metropolitan</td>\n",
       "      <td>2211.0</td>\n",
       "      <td>6.4</td>\n",
       "      <td>Darebin City Council</td>\n",
       "      <td>3.0</td>\n",
       "      <td>2.0</td>\n",
       "      <td>1.0</td>\n",
       "      <td>174.0</td>\n",
       "      <td>122</td>\n",
       "      <td>NaN</td>\n",
       "    </tr>\n",
       "    <tr>\n",
       "      <th>...</th>\n",
       "      <td>...</td>\n",
       "      <td>...</td>\n",
       "      <td>...</td>\n",
       "      <td>...</td>\n",
       "      <td>...</td>\n",
       "      <td>...</td>\n",
       "      <td>...</td>\n",
       "      <td>...</td>\n",
       "      <td>...</td>\n",
       "      <td>...</td>\n",
       "      <td>...</td>\n",
       "      <td>...</td>\n",
       "      <td>...</td>\n",
       "      <td>...</td>\n",
       "      <td>...</td>\n",
       "    </tr>\n",
       "    <tr>\n",
       "      <th>34852</th>\n",
       "      <td>Reservoir</td>\n",
       "      <td>3</td>\n",
       "      <td>u</td>\n",
       "      <td>SP</td>\n",
       "      <td>RW</td>\n",
       "      <td>Northern Metropolitan</td>\n",
       "      <td>21650.0</td>\n",
       "      <td>12.0</td>\n",
       "      <td>Darebin City Council</td>\n",
       "      <td>3.0</td>\n",
       "      <td>1.0</td>\n",
       "      <td>1.0</td>\n",
       "      <td>NaN</td>\n",
       "      <td>105.0</td>\n",
       "      <td>475000.0</td>\n",
       "    </tr>\n",
       "    <tr>\n",
       "      <th>34853</th>\n",
       "      <td>Roxburgh Park</td>\n",
       "      <td>4</td>\n",
       "      <td>h</td>\n",
       "      <td>S</td>\n",
       "      <td>Raine</td>\n",
       "      <td>Northern Metropolitan</td>\n",
       "      <td>5833.0</td>\n",
       "      <td>20.6</td>\n",
       "      <td>Hume City Council</td>\n",
       "      <td>4.0</td>\n",
       "      <td>2.0</td>\n",
       "      <td>2.0</td>\n",
       "      <td>NaN</td>\n",
       "      <td>225.0</td>\n",
       "      <td>591000.0</td>\n",
       "    </tr>\n",
       "    <tr>\n",
       "      <th>34854</th>\n",
       "      <td>Springvale South</td>\n",
       "      <td>4</td>\n",
       "      <td>h</td>\n",
       "      <td>PI</td>\n",
       "      <td>Barry</td>\n",
       "      <td>South-Eastern Metropolitan</td>\n",
       "      <td>4054.0</td>\n",
       "      <td>22.2</td>\n",
       "      <td>Greater Dandenong City Council</td>\n",
       "      <td>4.0</td>\n",
       "      <td>2.0</td>\n",
       "      <td>2.0</td>\n",
       "      <td>534.0</td>\n",
       "      <td>152.0</td>\n",
       "      <td>NaN</td>\n",
       "    </tr>\n",
       "    <tr>\n",
       "      <th>34855</th>\n",
       "      <td>Springvale South</td>\n",
       "      <td>3</td>\n",
       "      <td>h</td>\n",
       "      <td>S</td>\n",
       "      <td>Harcourts</td>\n",
       "      <td>South-Eastern Metropolitan</td>\n",
       "      <td>4054.0</td>\n",
       "      <td>22.2</td>\n",
       "      <td>Greater Dandenong City Council</td>\n",
       "      <td>3.0</td>\n",
       "      <td>2.0</td>\n",
       "      <td>1.0</td>\n",
       "      <td>544.0</td>\n",
       "      <td>NaN</td>\n",
       "      <td>780500.0</td>\n",
       "    </tr>\n",
       "    <tr>\n",
       "      <th>34856</th>\n",
       "      <td>Westmeadows</td>\n",
       "      <td>4</td>\n",
       "      <td>h</td>\n",
       "      <td>S</td>\n",
       "      <td>Barry</td>\n",
       "      <td>Northern Metropolitan</td>\n",
       "      <td>2474.0</td>\n",
       "      <td>16.5</td>\n",
       "      <td>Hume City Council</td>\n",
       "      <td>4.0</td>\n",
       "      <td>2.0</td>\n",
       "      <td>6.0</td>\n",
       "      <td>813.0</td>\n",
       "      <td>140.0</td>\n",
       "      <td>791000.0</td>\n",
       "    </tr>\n",
       "  </tbody>\n",
       "</table>\n",
       "<p>34857 rows × 15 columns</p>\n",
       "</div>"
      ],
      "text/plain": [
       "                 Suburb  Rooms Type Method        SellerG  \\\n",
       "0            Abbotsford      2    h     SS         Jellis   \n",
       "1          Airport West      3    t     PI         Nelson   \n",
       "2           Albert Park      2    h      S  hockingstuart   \n",
       "3           Albert Park      2    h      S        Thomson   \n",
       "4            Alphington      3    h     SN        McGrath   \n",
       "...                 ...    ...  ...    ...            ...   \n",
       "34852         Reservoir      3    u     SP             RW   \n",
       "34853     Roxburgh Park      4    h      S          Raine   \n",
       "34854  Springvale South      4    h     PI          Barry   \n",
       "34855  Springvale South      3    h      S      Harcourts   \n",
       "34856       Westmeadows      4    h      S          Barry   \n",
       "\n",
       "                       Regionname  Propertycount  Distance  \\\n",
       "0           Northern Metropolitan         4019.0       2.5   \n",
       "1            Western Metropolitan         3464.0      13.5   \n",
       "2           Southern Metropolitan         3280.0       3.3   \n",
       "3           Southern Metropolitan         3280.0       3.3   \n",
       "4           Northern Metropolitan         2211.0       6.4   \n",
       "...                           ...            ...       ...   \n",
       "34852       Northern Metropolitan        21650.0      12.0   \n",
       "34853       Northern Metropolitan         5833.0      20.6   \n",
       "34854  South-Eastern Metropolitan         4054.0      22.2   \n",
       "34855  South-Eastern Metropolitan         4054.0      22.2   \n",
       "34856       Northern Metropolitan         2474.0      16.5   \n",
       "\n",
       "                          CouncilArea  Bedroom  Bathroom  Car  Landsize  \\\n",
       "0                  Yarra City Council      2.0       1.0  1.0     126.0   \n",
       "1          Moonee Valley City Council      3.0       2.0  1.0     303.0   \n",
       "2           Port Phillip City Council      2.0       1.0  0.0     120.0   \n",
       "3           Port Phillip City Council      2.0       1.0  0.0     159.0   \n",
       "4                Darebin City Council      3.0       2.0  1.0     174.0   \n",
       "...                               ...      ...       ...  ...       ...   \n",
       "34852            Darebin City Council      3.0       1.0  1.0       NaN   \n",
       "34853               Hume City Council      4.0       2.0  2.0       NaN   \n",
       "34854  Greater Dandenong City Council      4.0       2.0  2.0     534.0   \n",
       "34855  Greater Dandenong City Council      3.0       2.0  1.0     544.0   \n",
       "34856               Hume City Council      4.0       2.0  6.0     813.0   \n",
       "\n",
       "      BuildingArea      Price  \n",
       "0              inf        NaN  \n",
       "1              225   840000.0  \n",
       "2               82  1275000.0  \n",
       "3              inf  1455000.0  \n",
       "4              122        NaN  \n",
       "...            ...        ...  \n",
       "34852        105.0   475000.0  \n",
       "34853        225.0   591000.0  \n",
       "34854        152.0        NaN  \n",
       "34855          NaN   780500.0  \n",
       "34856        140.0   791000.0  \n",
       "\n",
       "[34857 rows x 15 columns]"
      ]
     },
     "execution_count": 5,
     "metadata": {},
     "output_type": "execute_result"
    }
   ],
   "source": [
    "# now lets observe our data and try to drop some columns that are not very uselful in our data analysis. I am just dropping some columns\n",
    "# like date, latitute etc that are not very meaningful for our analysis. \n",
    "columns_to_use = ['Suburb', 'Rooms', 'Type', 'Method', 'SellerG', 'Regionname', 'Propertycount', 'Distance', 'CouncilArea', 'Bedroom', 'Bathroom', 'Car', 'Landsize', 'BuildingArea', 'Price']\n",
    "df_new = df[columns_to_use]\n",
    "df_new"
   ]
  },
  {
   "cell_type": "code",
   "execution_count": 6,
   "id": "a04c0341",
   "metadata": {
    "execution": {
     "iopub.execute_input": "2023-09-02T10:51:30.791601Z",
     "iopub.status.busy": "2023-09-02T10:51:30.791232Z",
     "iopub.status.idle": "2023-09-02T10:51:30.798313Z",
     "shell.execute_reply": "2023-09-02T10:51:30.797127Z"
    },
    "papermill": {
     "duration": 0.022298,
     "end_time": "2023-09-02T10:51:30.800716",
     "exception": false,
     "start_time": "2023-09-02T10:51:30.778418",
     "status": "completed"
    },
    "tags": []
   },
   "outputs": [
    {
     "data": {
      "text/plain": [
       "(34857, 15)"
      ]
     },
     "execution_count": 6,
     "metadata": {},
     "output_type": "execute_result"
    }
   ],
   "source": [
    "df_new.shape"
   ]
  },
  {
   "cell_type": "code",
   "execution_count": 7,
   "id": "211161a3",
   "metadata": {
    "execution": {
     "iopub.execute_input": "2023-09-02T10:51:30.825734Z",
     "iopub.status.busy": "2023-09-02T10:51:30.825356Z",
     "iopub.status.idle": "2023-09-02T10:51:30.858621Z",
     "shell.execute_reply": "2023-09-02T10:51:30.857755Z"
    },
    "papermill": {
     "duration": 0.048829,
     "end_time": "2023-09-02T10:51:30.861038",
     "exception": false,
     "start_time": "2023-09-02T10:51:30.812209",
     "status": "completed"
    },
    "scrolled": true,
    "tags": []
   },
   "outputs": [
    {
     "data": {
      "text/plain": [
       "Suburb               0\n",
       "Rooms                0\n",
       "Type                 0\n",
       "Method               0\n",
       "SellerG              0\n",
       "Regionname           0\n",
       "Propertycount        3\n",
       "Distance             1\n",
       "CouncilArea          3\n",
       "Bedroom           8217\n",
       "Bathroom          8226\n",
       "Car               8728\n",
       "Landsize         11810\n",
       "BuildingArea     21097\n",
       "Price             7610\n",
       "dtype: int64"
      ]
     },
     "execution_count": 7,
     "metadata": {},
     "output_type": "execute_result"
    }
   ],
   "source": [
    "# now lets do some data cleaning\n",
    "df_new.isna().sum()"
   ]
  },
  {
   "cell_type": "code",
   "execution_count": 8,
   "id": "d9cd2588",
   "metadata": {
    "execution": {
     "iopub.execute_input": "2023-09-02T10:51:30.887886Z",
     "iopub.status.busy": "2023-09-02T10:51:30.886830Z",
     "iopub.status.idle": "2023-09-02T10:51:30.928064Z",
     "shell.execute_reply": "2023-09-02T10:51:30.926951Z"
    },
    "papermill": {
     "duration": 0.056996,
     "end_time": "2023-09-02T10:51:30.930406",
     "exception": false,
     "start_time": "2023-09-02T10:51:30.873410",
     "status": "completed"
    },
    "scrolled": true,
    "tags": []
   },
   "outputs": [
    {
     "name": "stderr",
     "output_type": "stream",
     "text": [
      "/tmp/ipykernel_20/2434289955.py:5: SettingWithCopyWarning: \n",
      "A value is trying to be set on a copy of a slice from a DataFrame.\n",
      "Try using .loc[row_indexer,col_indexer] = value instead\n",
      "\n",
      "See the caveats in the documentation: https://pandas.pydata.org/pandas-docs/stable/user_guide/indexing.html#returning-a-view-versus-a-copy\n",
      "  df_new[columns_to_fill_0] = df[columns_to_fill_0].fillna(0)\n"
     ]
    },
    {
     "data": {
      "text/plain": [
       "Suburb               0\n",
       "Rooms                0\n",
       "Type                 0\n",
       "Method               0\n",
       "SellerG              0\n",
       "Regionname           0\n",
       "Propertycount        0\n",
       "Distance             0\n",
       "CouncilArea          3\n",
       "Bedroom              0\n",
       "Bathroom             0\n",
       "Car                  0\n",
       "Landsize         11810\n",
       "BuildingArea     21097\n",
       "Price             7610\n",
       "dtype: int64"
      ]
     },
     "execution_count": 8,
     "metadata": {},
     "output_type": "execute_result"
    }
   ],
   "source": [
    "# so we have several columns with NaN values so we need to handle these columns. We can actually fill some of these column's NaN \n",
    "# values just by 0 and some other columns might need some other treatment based on their nature for example price.\n",
    "# lets first handle the columns where we need to fill only 0.\n",
    "columns_to_fill_0 = ['Car', 'Bathroom', 'Bedroom', 'Distance', 'Propertycount']\n",
    "df_new[columns_to_fill_0] = df[columns_to_fill_0].fillna(0)\n",
    "df_new.isna().sum()"
   ]
  },
  {
   "cell_type": "code",
   "execution_count": 9,
   "id": "40161479",
   "metadata": {
    "execution": {
     "iopub.execute_input": "2023-09-02T10:51:30.957379Z",
     "iopub.status.busy": "2023-09-02T10:51:30.956402Z",
     "iopub.status.idle": "2023-09-02T10:51:31.084065Z",
     "shell.execute_reply": "2023-09-02T10:51:31.082859Z"
    },
    "papermill": {
     "duration": 0.144483,
     "end_time": "2023-09-02T10:51:31.087165",
     "exception": false,
     "start_time": "2023-09-02T10:51:30.942682",
     "status": "completed"
    },
    "tags": []
   },
   "outputs": [
    {
     "name": "stderr",
     "output_type": "stream",
     "text": [
      "/tmp/ipykernel_20/1726675753.py:2: SettingWithCopyWarning: \n",
      "A value is trying to be set on a copy of a slice from a DataFrame.\n",
      "Try using .loc[row_indexer,col_indexer] = value instead\n",
      "\n",
      "See the caveats in the documentation: https://pandas.pydata.org/pandas-docs/stable/user_guide/indexing.html#returning-a-view-versus-a-copy\n",
      "  df_new['Landsize'] = pd.to_numeric(df_new['Landsize'], errors='coerce') # the numbers were in string form so had to convert them to integers.\n",
      "/tmp/ipykernel_20/1726675753.py:3: SettingWithCopyWarning: \n",
      "A value is trying to be set on a copy of a slice from a DataFrame.\n",
      "Try using .loc[row_indexer,col_indexer] = value instead\n",
      "\n",
      "See the caveats in the documentation: https://pandas.pydata.org/pandas-docs/stable/user_guide/indexing.html#returning-a-view-versus-a-copy\n",
      "  df_new['BuildingArea'] = pd.to_numeric(df_new['BuildingArea'], errors='coerce')\n",
      "/tmp/ipykernel_20/1726675753.py:4: SettingWithCopyWarning: \n",
      "A value is trying to be set on a copy of a slice from a DataFrame.\n",
      "Try using .loc[row_indexer,col_indexer] = value instead\n",
      "\n",
      "See the caveats in the documentation: https://pandas.pydata.org/pandas-docs/stable/user_guide/indexing.html#returning-a-view-versus-a-copy\n",
      "  df_new['Landsize'] = df_new['Landsize'].fillna(df_new.Landsize.mean())\n",
      "/tmp/ipykernel_20/1726675753.py:5: SettingWithCopyWarning: \n",
      "A value is trying to be set on a copy of a slice from a DataFrame.\n",
      "Try using .loc[row_indexer,col_indexer] = value instead\n",
      "\n",
      "See the caveats in the documentation: https://pandas.pydata.org/pandas-docs/stable/user_guide/indexing.html#returning-a-view-versus-a-copy\n",
      "  df_new['BuildingArea'] = df_new['BuildingArea'].fillna(df_new.BuildingArea.mean())\n"
     ]
    }
   ],
   "source": [
    "# Now lets fill the columns named landsize and building area with mean of the whole respective columns\n",
    "df_new['Landsize'] = pd.to_numeric(df_new['Landsize'], errors='coerce') # the numbers were in string form so had to convert them to integers.\n",
    "df_new['BuildingArea'] = pd.to_numeric(df_new['BuildingArea'], errors='coerce')\n",
    "df_new['Landsize'] = df_new['Landsize'].fillna(df_new.Landsize.mean())\n",
    "df_new['BuildingArea'] = df_new['BuildingArea'].fillna(df_new.BuildingArea.mean())\n",
    "df_new = df_new.replace([np.inf, -np.inf], np.nan).dropna()\n",
    "# in the buildingArea column there are some infitly large valuea and the model was not training because of that that is why \n",
    "# I had to come back here and drop those inf values as well.\n"
   ]
  },
  {
   "cell_type": "code",
   "execution_count": 10,
   "id": "c534d092",
   "metadata": {
    "execution": {
     "iopub.execute_input": "2023-09-02T10:51:31.113741Z",
     "iopub.status.busy": "2023-09-02T10:51:31.113321Z",
     "iopub.status.idle": "2023-09-02T10:51:31.128914Z",
     "shell.execute_reply": "2023-09-02T10:51:31.127865Z"
    },
    "papermill": {
     "duration": 0.031551,
     "end_time": "2023-09-02T10:51:31.131247",
     "exception": false,
     "start_time": "2023-09-02T10:51:31.099696",
     "status": "completed"
    },
    "tags": []
   },
   "outputs": [
    {
     "data": {
      "text/plain": [
       "Suburb           0\n",
       "Rooms            0\n",
       "Type             0\n",
       "Method           0\n",
       "SellerG          0\n",
       "Regionname       0\n",
       "Propertycount    0\n",
       "Distance         0\n",
       "CouncilArea      0\n",
       "Bedroom          0\n",
       "Bathroom         0\n",
       "Car              0\n",
       "Landsize         0\n",
       "BuildingArea     0\n",
       "Price            0\n",
       "dtype: int64"
      ]
     },
     "execution_count": 10,
     "metadata": {},
     "output_type": "execute_result"
    }
   ],
   "source": [
    "df_new.isna().sum()"
   ]
  },
  {
   "cell_type": "code",
   "execution_count": 11,
   "id": "0cfcd82b",
   "metadata": {
    "execution": {
     "iopub.execute_input": "2023-09-02T10:51:31.157839Z",
     "iopub.status.busy": "2023-09-02T10:51:31.157470Z",
     "iopub.status.idle": "2023-09-02T10:51:31.265915Z",
     "shell.execute_reply": "2023-09-02T10:51:31.264799Z"
    },
    "papermill": {
     "duration": 0.124658,
     "end_time": "2023-09-02T10:51:31.268362",
     "exception": false,
     "start_time": "2023-09-02T10:51:31.143704",
     "status": "completed"
    },
    "scrolled": true,
    "tags": []
   },
   "outputs": [
    {
     "data": {
      "text/html": [
       "<div>\n",
       "<style scoped>\n",
       "    .dataframe tbody tr th:only-of-type {\n",
       "        vertical-align: middle;\n",
       "    }\n",
       "\n",
       "    .dataframe tbody tr th {\n",
       "        vertical-align: top;\n",
       "    }\n",
       "\n",
       "    .dataframe thead th {\n",
       "        text-align: right;\n",
       "    }\n",
       "</style>\n",
       "<table border=\"1\" class=\"dataframe\">\n",
       "  <thead>\n",
       "    <tr style=\"text-align: right;\">\n",
       "      <th></th>\n",
       "      <th>Rooms</th>\n",
       "      <th>Propertycount</th>\n",
       "      <th>Distance</th>\n",
       "      <th>Bedroom</th>\n",
       "      <th>Bathroom</th>\n",
       "      <th>Car</th>\n",
       "      <th>Landsize</th>\n",
       "      <th>BuildingArea</th>\n",
       "      <th>Price</th>\n",
       "      <th>Suburb_Aberfeldie</th>\n",
       "      <th>...</th>\n",
       "      <th>CouncilArea_Moorabool Shire Council</th>\n",
       "      <th>CouncilArea_Moreland City Council</th>\n",
       "      <th>CouncilArea_Nillumbik Shire Council</th>\n",
       "      <th>CouncilArea_Port Phillip City Council</th>\n",
       "      <th>CouncilArea_Stonnington City Council</th>\n",
       "      <th>CouncilArea_Whitehorse City Council</th>\n",
       "      <th>CouncilArea_Whittlesea City Council</th>\n",
       "      <th>CouncilArea_Wyndham City Council</th>\n",
       "      <th>CouncilArea_Yarra City Council</th>\n",
       "      <th>CouncilArea_Yarra Ranges Shire Council</th>\n",
       "    </tr>\n",
       "  </thead>\n",
       "  <tbody>\n",
       "    <tr>\n",
       "      <th>1</th>\n",
       "      <td>3</td>\n",
       "      <td>3464.0</td>\n",
       "      <td>13.5</td>\n",
       "      <td>3.0</td>\n",
       "      <td>2.0</td>\n",
       "      <td>1.0</td>\n",
       "      <td>303.000000</td>\n",
       "      <td>225.0</td>\n",
       "      <td>840000.0</td>\n",
       "      <td>False</td>\n",
       "      <td>...</td>\n",
       "      <td>False</td>\n",
       "      <td>False</td>\n",
       "      <td>False</td>\n",
       "      <td>False</td>\n",
       "      <td>False</td>\n",
       "      <td>False</td>\n",
       "      <td>False</td>\n",
       "      <td>False</td>\n",
       "      <td>False</td>\n",
       "      <td>False</td>\n",
       "    </tr>\n",
       "    <tr>\n",
       "      <th>2</th>\n",
       "      <td>2</td>\n",
       "      <td>3280.0</td>\n",
       "      <td>3.3</td>\n",
       "      <td>2.0</td>\n",
       "      <td>1.0</td>\n",
       "      <td>0.0</td>\n",
       "      <td>120.000000</td>\n",
       "      <td>82.0</td>\n",
       "      <td>1275000.0</td>\n",
       "      <td>False</td>\n",
       "      <td>...</td>\n",
       "      <td>False</td>\n",
       "      <td>False</td>\n",
       "      <td>False</td>\n",
       "      <td>True</td>\n",
       "      <td>False</td>\n",
       "      <td>False</td>\n",
       "      <td>False</td>\n",
       "      <td>False</td>\n",
       "      <td>False</td>\n",
       "      <td>False</td>\n",
       "    </tr>\n",
       "    <tr>\n",
       "      <th>5</th>\n",
       "      <td>4</td>\n",
       "      <td>2211.0</td>\n",
       "      <td>6.4</td>\n",
       "      <td>3.0</td>\n",
       "      <td>2.0</td>\n",
       "      <td>4.0</td>\n",
       "      <td>853.000000</td>\n",
       "      <td>263.0</td>\n",
       "      <td>2000000.0</td>\n",
       "      <td>False</td>\n",
       "      <td>...</td>\n",
       "      <td>False</td>\n",
       "      <td>False</td>\n",
       "      <td>False</td>\n",
       "      <td>False</td>\n",
       "      <td>False</td>\n",
       "      <td>False</td>\n",
       "      <td>False</td>\n",
       "      <td>False</td>\n",
       "      <td>False</td>\n",
       "      <td>False</td>\n",
       "    </tr>\n",
       "    <tr>\n",
       "      <th>7</th>\n",
       "      <td>3</td>\n",
       "      <td>5301.0</td>\n",
       "      <td>13.8</td>\n",
       "      <td>3.0</td>\n",
       "      <td>2.0</td>\n",
       "      <td>1.0</td>\n",
       "      <td>352.000000</td>\n",
       "      <td>242.0</td>\n",
       "      <td>520000.0</td>\n",
       "      <td>False</td>\n",
       "      <td>...</td>\n",
       "      <td>False</td>\n",
       "      <td>False</td>\n",
       "      <td>False</td>\n",
       "      <td>False</td>\n",
       "      <td>False</td>\n",
       "      <td>False</td>\n",
       "      <td>False</td>\n",
       "      <td>False</td>\n",
       "      <td>False</td>\n",
       "      <td>False</td>\n",
       "    </tr>\n",
       "    <tr>\n",
       "      <th>9</th>\n",
       "      <td>5</td>\n",
       "      <td>5132.0</td>\n",
       "      <td>11.1</td>\n",
       "      <td>5.0</td>\n",
       "      <td>3.0</td>\n",
       "      <td>6.0</td>\n",
       "      <td>592.000000</td>\n",
       "      <td>251.0</td>\n",
       "      <td>1085000.0</td>\n",
       "      <td>False</td>\n",
       "      <td>...</td>\n",
       "      <td>False</td>\n",
       "      <td>False</td>\n",
       "      <td>False</td>\n",
       "      <td>False</td>\n",
       "      <td>False</td>\n",
       "      <td>False</td>\n",
       "      <td>False</td>\n",
       "      <td>False</td>\n",
       "      <td>False</td>\n",
       "      <td>False</td>\n",
       "    </tr>\n",
       "    <tr>\n",
       "      <th>...</th>\n",
       "      <td>...</td>\n",
       "      <td>...</td>\n",
       "      <td>...</td>\n",
       "      <td>...</td>\n",
       "      <td>...</td>\n",
       "      <td>...</td>\n",
       "      <td>...</td>\n",
       "      <td>...</td>\n",
       "      <td>...</td>\n",
       "      <td>...</td>\n",
       "      <td>...</td>\n",
       "      <td>...</td>\n",
       "      <td>...</td>\n",
       "      <td>...</td>\n",
       "      <td>...</td>\n",
       "      <td>...</td>\n",
       "      <td>...</td>\n",
       "      <td>...</td>\n",
       "      <td>...</td>\n",
       "      <td>...</td>\n",
       "      <td>...</td>\n",
       "    </tr>\n",
       "    <tr>\n",
       "      <th>34848</th>\n",
       "      <td>2</td>\n",
       "      <td>3873.0</td>\n",
       "      <td>6.4</td>\n",
       "      <td>2.0</td>\n",
       "      <td>1.0</td>\n",
       "      <td>1.0</td>\n",
       "      <td>300.000000</td>\n",
       "      <td>108.0</td>\n",
       "      <td>611500.0</td>\n",
       "      <td>False</td>\n",
       "      <td>...</td>\n",
       "      <td>False</td>\n",
       "      <td>False</td>\n",
       "      <td>False</td>\n",
       "      <td>False</td>\n",
       "      <td>False</td>\n",
       "      <td>False</td>\n",
       "      <td>False</td>\n",
       "      <td>False</td>\n",
       "      <td>False</td>\n",
       "      <td>False</td>\n",
       "    </tr>\n",
       "    <tr>\n",
       "      <th>34851</th>\n",
       "      <td>3</td>\n",
       "      <td>11806.0</td>\n",
       "      <td>22.7</td>\n",
       "      <td>3.0</td>\n",
       "      <td>1.0</td>\n",
       "      <td>6.0</td>\n",
       "      <td>569.000000</td>\n",
       "      <td>130.0</td>\n",
       "      <td>627500.0</td>\n",
       "      <td>False</td>\n",
       "      <td>...</td>\n",
       "      <td>False</td>\n",
       "      <td>False</td>\n",
       "      <td>False</td>\n",
       "      <td>False</td>\n",
       "      <td>False</td>\n",
       "      <td>False</td>\n",
       "      <td>False</td>\n",
       "      <td>False</td>\n",
       "      <td>False</td>\n",
       "      <td>False</td>\n",
       "    </tr>\n",
       "    <tr>\n",
       "      <th>34852</th>\n",
       "      <td>3</td>\n",
       "      <td>21650.0</td>\n",
       "      <td>12.0</td>\n",
       "      <td>3.0</td>\n",
       "      <td>1.0</td>\n",
       "      <td>1.0</td>\n",
       "      <td>593.598993</td>\n",
       "      <td>105.0</td>\n",
       "      <td>475000.0</td>\n",
       "      <td>False</td>\n",
       "      <td>...</td>\n",
       "      <td>False</td>\n",
       "      <td>False</td>\n",
       "      <td>False</td>\n",
       "      <td>False</td>\n",
       "      <td>False</td>\n",
       "      <td>False</td>\n",
       "      <td>False</td>\n",
       "      <td>False</td>\n",
       "      <td>False</td>\n",
       "      <td>False</td>\n",
       "    </tr>\n",
       "    <tr>\n",
       "      <th>34853</th>\n",
       "      <td>4</td>\n",
       "      <td>5833.0</td>\n",
       "      <td>20.6</td>\n",
       "      <td>4.0</td>\n",
       "      <td>2.0</td>\n",
       "      <td>2.0</td>\n",
       "      <td>593.598993</td>\n",
       "      <td>225.0</td>\n",
       "      <td>591000.0</td>\n",
       "      <td>False</td>\n",
       "      <td>...</td>\n",
       "      <td>False</td>\n",
       "      <td>False</td>\n",
       "      <td>False</td>\n",
       "      <td>False</td>\n",
       "      <td>False</td>\n",
       "      <td>False</td>\n",
       "      <td>False</td>\n",
       "      <td>False</td>\n",
       "      <td>False</td>\n",
       "      <td>False</td>\n",
       "    </tr>\n",
       "    <tr>\n",
       "      <th>34856</th>\n",
       "      <td>4</td>\n",
       "      <td>2474.0</td>\n",
       "      <td>16.5</td>\n",
       "      <td>4.0</td>\n",
       "      <td>2.0</td>\n",
       "      <td>6.0</td>\n",
       "      <td>813.000000</td>\n",
       "      <td>140.0</td>\n",
       "      <td>791000.0</td>\n",
       "      <td>False</td>\n",
       "      <td>...</td>\n",
       "      <td>False</td>\n",
       "      <td>False</td>\n",
       "      <td>False</td>\n",
       "      <td>False</td>\n",
       "      <td>False</td>\n",
       "      <td>False</td>\n",
       "      <td>False</td>\n",
       "      <td>False</td>\n",
       "      <td>False</td>\n",
       "      <td>False</td>\n",
       "    </tr>\n",
       "  </tbody>\n",
       "</table>\n",
       "<p>10656 rows × 644 columns</p>\n",
       "</div>"
      ],
      "text/plain": [
       "       Rooms  Propertycount  Distance  Bedroom  Bathroom  Car    Landsize  \\\n",
       "1          3         3464.0      13.5      3.0       2.0  1.0  303.000000   \n",
       "2          2         3280.0       3.3      2.0       1.0  0.0  120.000000   \n",
       "5          4         2211.0       6.4      3.0       2.0  4.0  853.000000   \n",
       "7          3         5301.0      13.8      3.0       2.0  1.0  352.000000   \n",
       "9          5         5132.0      11.1      5.0       3.0  6.0  592.000000   \n",
       "...      ...            ...       ...      ...       ...  ...         ...   \n",
       "34848      2         3873.0       6.4      2.0       1.0  1.0  300.000000   \n",
       "34851      3        11806.0      22.7      3.0       1.0  6.0  569.000000   \n",
       "34852      3        21650.0      12.0      3.0       1.0  1.0  593.598993   \n",
       "34853      4         5833.0      20.6      4.0       2.0  2.0  593.598993   \n",
       "34856      4         2474.0      16.5      4.0       2.0  6.0  813.000000   \n",
       "\n",
       "       BuildingArea      Price  Suburb_Aberfeldie  ...  \\\n",
       "1             225.0   840000.0              False  ...   \n",
       "2              82.0  1275000.0              False  ...   \n",
       "5             263.0  2000000.0              False  ...   \n",
       "7             242.0   520000.0              False  ...   \n",
       "9             251.0  1085000.0              False  ...   \n",
       "...             ...        ...                ...  ...   \n",
       "34848         108.0   611500.0              False  ...   \n",
       "34851         130.0   627500.0              False  ...   \n",
       "34852         105.0   475000.0              False  ...   \n",
       "34853         225.0   591000.0              False  ...   \n",
       "34856         140.0   791000.0              False  ...   \n",
       "\n",
       "       CouncilArea_Moorabool Shire Council  CouncilArea_Moreland City Council  \\\n",
       "1                                    False                              False   \n",
       "2                                    False                              False   \n",
       "5                                    False                              False   \n",
       "7                                    False                              False   \n",
       "9                                    False                              False   \n",
       "...                                    ...                                ...   \n",
       "34848                                False                              False   \n",
       "34851                                False                              False   \n",
       "34852                                False                              False   \n",
       "34853                                False                              False   \n",
       "34856                                False                              False   \n",
       "\n",
       "       CouncilArea_Nillumbik Shire Council  \\\n",
       "1                                    False   \n",
       "2                                    False   \n",
       "5                                    False   \n",
       "7                                    False   \n",
       "9                                    False   \n",
       "...                                    ...   \n",
       "34848                                False   \n",
       "34851                                False   \n",
       "34852                                False   \n",
       "34853                                False   \n",
       "34856                                False   \n",
       "\n",
       "       CouncilArea_Port Phillip City Council  \\\n",
       "1                                      False   \n",
       "2                                       True   \n",
       "5                                      False   \n",
       "7                                      False   \n",
       "9                                      False   \n",
       "...                                      ...   \n",
       "34848                                  False   \n",
       "34851                                  False   \n",
       "34852                                  False   \n",
       "34853                                  False   \n",
       "34856                                  False   \n",
       "\n",
       "       CouncilArea_Stonnington City Council  \\\n",
       "1                                     False   \n",
       "2                                     False   \n",
       "5                                     False   \n",
       "7                                     False   \n",
       "9                                     False   \n",
       "...                                     ...   \n",
       "34848                                 False   \n",
       "34851                                 False   \n",
       "34852                                 False   \n",
       "34853                                 False   \n",
       "34856                                 False   \n",
       "\n",
       "       CouncilArea_Whitehorse City Council  \\\n",
       "1                                    False   \n",
       "2                                    False   \n",
       "5                                    False   \n",
       "7                                    False   \n",
       "9                                    False   \n",
       "...                                    ...   \n",
       "34848                                False   \n",
       "34851                                False   \n",
       "34852                                False   \n",
       "34853                                False   \n",
       "34856                                False   \n",
       "\n",
       "       CouncilArea_Whittlesea City Council  CouncilArea_Wyndham City Council  \\\n",
       "1                                    False                             False   \n",
       "2                                    False                             False   \n",
       "5                                    False                             False   \n",
       "7                                    False                             False   \n",
       "9                                    False                             False   \n",
       "...                                    ...                               ...   \n",
       "34848                                False                             False   \n",
       "34851                                False                             False   \n",
       "34852                                False                             False   \n",
       "34853                                False                             False   \n",
       "34856                                False                             False   \n",
       "\n",
       "       CouncilArea_Yarra City Council  CouncilArea_Yarra Ranges Shire Council  \n",
       "1                               False                                   False  \n",
       "2                               False                                   False  \n",
       "5                               False                                   False  \n",
       "7                               False                                   False  \n",
       "9                               False                                   False  \n",
       "...                               ...                                     ...  \n",
       "34848                           False                                   False  \n",
       "34851                           False                                   False  \n",
       "34852                           False                                   False  \n",
       "34853                           False                                   False  \n",
       "34856                           False                                   False  \n",
       "\n",
       "[10656 rows x 644 columns]"
      ]
     },
     "execution_count": 11,
     "metadata": {},
     "output_type": "execute_result"
    }
   ],
   "source": [
    "# now we are good to go with out cleaned data. Now we are going to make dummy variables for our whole dataset.\n",
    "df_new = pd.get_dummies(df_new, drop_first=True) # it is a short cut to avoid dummy variable trap it is just dropping the main column whose dummies we have produced. \n",
    "df_new"
   ]
  },
  {
   "cell_type": "code",
   "execution_count": 12,
   "id": "532cf743",
   "metadata": {
    "execution": {
     "iopub.execute_input": "2023-09-02T10:51:31.297947Z",
     "iopub.status.busy": "2023-09-02T10:51:31.296897Z",
     "iopub.status.idle": "2023-09-02T10:51:31.306996Z",
     "shell.execute_reply": "2023-09-02T10:51:31.306163Z"
    },
    "papermill": {
     "duration": 0.02699,
     "end_time": "2023-09-02T10:51:31.309239",
     "exception": false,
     "start_time": "2023-09-02T10:51:31.282249",
     "status": "completed"
    },
    "tags": []
   },
   "outputs": [],
   "source": [
    "x = df_new.drop('Price', axis='columns')\n",
    "y = df_new.Price"
   ]
  },
  {
   "cell_type": "code",
   "execution_count": 13,
   "id": "a8e3a8d8",
   "metadata": {
    "execution": {
     "iopub.execute_input": "2023-09-02T10:51:31.337413Z",
     "iopub.status.busy": "2023-09-02T10:51:31.336707Z",
     "iopub.status.idle": "2023-09-02T10:51:32.645281Z",
     "shell.execute_reply": "2023-09-02T10:51:32.644181Z"
    },
    "papermill": {
     "duration": 1.325703,
     "end_time": "2023-09-02T10:51:32.648038",
     "exception": false,
     "start_time": "2023-09-02T10:51:31.322335",
     "status": "completed"
    },
    "tags": []
   },
   "outputs": [],
   "source": [
    "# Now we can jump into our machine learning model and lets first use the train_test_split method\n",
    "from sklearn.model_selection import train_test_split\n",
    "x_train, x_test, y_train, y_test = train_test_split(x, y, train_size=0.8, random_state=2)"
   ]
  },
  {
   "cell_type": "code",
   "execution_count": 14,
   "id": "5eaa3a70",
   "metadata": {
    "execution": {
     "iopub.execute_input": "2023-09-02T10:51:32.676556Z",
     "iopub.status.busy": "2023-09-02T10:51:32.676167Z",
     "iopub.status.idle": "2023-09-02T10:51:33.564886Z",
     "shell.execute_reply": "2023-09-02T10:51:33.563420Z"
    },
    "papermill": {
     "duration": 0.907452,
     "end_time": "2023-09-02T10:51:33.568906",
     "exception": false,
     "start_time": "2023-09-02T10:51:32.661454",
     "status": "completed"
    },
    "tags": []
   },
   "outputs": [
    {
     "data": {
      "text/html": [
       "<style>#sk-container-id-1 {color: black;background-color: white;}#sk-container-id-1 pre{padding: 0;}#sk-container-id-1 div.sk-toggleable {background-color: white;}#sk-container-id-1 label.sk-toggleable__label {cursor: pointer;display: block;width: 100%;margin-bottom: 0;padding: 0.3em;box-sizing: border-box;text-align: center;}#sk-container-id-1 label.sk-toggleable__label-arrow:before {content: \"▸\";float: left;margin-right: 0.25em;color: #696969;}#sk-container-id-1 label.sk-toggleable__label-arrow:hover:before {color: black;}#sk-container-id-1 div.sk-estimator:hover label.sk-toggleable__label-arrow:before {color: black;}#sk-container-id-1 div.sk-toggleable__content {max-height: 0;max-width: 0;overflow: hidden;text-align: left;background-color: #f0f8ff;}#sk-container-id-1 div.sk-toggleable__content pre {margin: 0.2em;color: black;border-radius: 0.25em;background-color: #f0f8ff;}#sk-container-id-1 input.sk-toggleable__control:checked~div.sk-toggleable__content {max-height: 200px;max-width: 100%;overflow: auto;}#sk-container-id-1 input.sk-toggleable__control:checked~label.sk-toggleable__label-arrow:before {content: \"▾\";}#sk-container-id-1 div.sk-estimator input.sk-toggleable__control:checked~label.sk-toggleable__label {background-color: #d4ebff;}#sk-container-id-1 div.sk-label input.sk-toggleable__control:checked~label.sk-toggleable__label {background-color: #d4ebff;}#sk-container-id-1 input.sk-hidden--visually {border: 0;clip: rect(1px 1px 1px 1px);clip: rect(1px, 1px, 1px, 1px);height: 1px;margin: -1px;overflow: hidden;padding: 0;position: absolute;width: 1px;}#sk-container-id-1 div.sk-estimator {font-family: monospace;background-color: #f0f8ff;border: 1px dotted black;border-radius: 0.25em;box-sizing: border-box;margin-bottom: 0.5em;}#sk-container-id-1 div.sk-estimator:hover {background-color: #d4ebff;}#sk-container-id-1 div.sk-parallel-item::after {content: \"\";width: 100%;border-bottom: 1px solid gray;flex-grow: 1;}#sk-container-id-1 div.sk-label:hover label.sk-toggleable__label {background-color: #d4ebff;}#sk-container-id-1 div.sk-serial::before {content: \"\";position: absolute;border-left: 1px solid gray;box-sizing: border-box;top: 0;bottom: 0;left: 50%;z-index: 0;}#sk-container-id-1 div.sk-serial {display: flex;flex-direction: column;align-items: center;background-color: white;padding-right: 0.2em;padding-left: 0.2em;position: relative;}#sk-container-id-1 div.sk-item {position: relative;z-index: 1;}#sk-container-id-1 div.sk-parallel {display: flex;align-items: stretch;justify-content: center;background-color: white;position: relative;}#sk-container-id-1 div.sk-item::before, #sk-container-id-1 div.sk-parallel-item::before {content: \"\";position: absolute;border-left: 1px solid gray;box-sizing: border-box;top: 0;bottom: 0;left: 50%;z-index: -1;}#sk-container-id-1 div.sk-parallel-item {display: flex;flex-direction: column;z-index: 1;position: relative;background-color: white;}#sk-container-id-1 div.sk-parallel-item:first-child::after {align-self: flex-end;width: 50%;}#sk-container-id-1 div.sk-parallel-item:last-child::after {align-self: flex-start;width: 50%;}#sk-container-id-1 div.sk-parallel-item:only-child::after {width: 0;}#sk-container-id-1 div.sk-dashed-wrapped {border: 1px dashed gray;margin: 0 0.4em 0.5em 0.4em;box-sizing: border-box;padding-bottom: 0.4em;background-color: white;}#sk-container-id-1 div.sk-label label {font-family: monospace;font-weight: bold;display: inline-block;line-height: 1.2em;}#sk-container-id-1 div.sk-label-container {text-align: center;}#sk-container-id-1 div.sk-container {/* jupyter's `normalize.less` sets `[hidden] { display: none; }` but bootstrap.min.css set `[hidden] { display: none !important; }` so we also need the `!important` here to be able to override the default hidden behavior on the sphinx rendered scikit-learn.org. See: https://github.com/scikit-learn/scikit-learn/issues/21755 */display: inline-block !important;position: relative;}#sk-container-id-1 div.sk-text-repr-fallback {display: none;}</style><div id=\"sk-container-id-1\" class=\"sk-top-container\"><div class=\"sk-text-repr-fallback\"><pre>LinearRegression()</pre><b>In a Jupyter environment, please rerun this cell to show the HTML representation or trust the notebook. <br />On GitHub, the HTML representation is unable to render, please try loading this page with nbviewer.org.</b></div><div class=\"sk-container\" hidden><div class=\"sk-item\"><div class=\"sk-estimator sk-toggleable\"><input class=\"sk-toggleable__control sk-hidden--visually\" id=\"sk-estimator-id-1\" type=\"checkbox\" checked><label for=\"sk-estimator-id-1\" class=\"sk-toggleable__label sk-toggleable__label-arrow\">LinearRegression</label><div class=\"sk-toggleable__content\"><pre>LinearRegression()</pre></div></div></div></div></div>"
      ],
      "text/plain": [
       "LinearRegression()"
      ]
     },
     "execution_count": 14,
     "metadata": {},
     "output_type": "execute_result"
    }
   ],
   "source": [
    "from sklearn.linear_model import LinearRegression\n",
    "model = LinearRegression()\n",
    "model.fit(x_train, y_train)\n"
   ]
  },
  {
   "cell_type": "code",
   "execution_count": 15,
   "id": "655bd0f8",
   "metadata": {
    "execution": {
     "iopub.execute_input": "2023-09-02T10:51:33.629376Z",
     "iopub.status.busy": "2023-09-02T10:51:33.628703Z",
     "iopub.status.idle": "2023-09-02T10:51:33.678555Z",
     "shell.execute_reply": "2023-09-02T10:51:33.677039Z"
    },
    "papermill": {
     "duration": 0.085854,
     "end_time": "2023-09-02T10:51:33.683317",
     "exception": false,
     "start_time": "2023-09-02T10:51:33.597463",
     "status": "completed"
    },
    "tags": []
   },
   "outputs": [
    {
     "data": {
      "text/plain": [
       "-297840101751.76135"
      ]
     },
     "execution_count": 15,
     "metadata": {},
     "output_type": "execute_result"
    }
   ],
   "source": [
    "model.score(x_test, y_test)\n",
    "# Our model is much overfit with the training dataset that its accuracy in negative when we provide it with testing dataset. "
   ]
  },
  {
   "cell_type": "code",
   "execution_count": 16,
   "id": "f0d3a3cf",
   "metadata": {
    "execution": {
     "iopub.execute_input": "2023-09-02T10:51:33.745602Z",
     "iopub.status.busy": "2023-09-02T10:51:33.744907Z",
     "iopub.status.idle": "2023-09-02T10:51:33.820918Z",
     "shell.execute_reply": "2023-09-02T10:51:33.819429Z"
    },
    "papermill": {
     "duration": 0.11206,
     "end_time": "2023-09-02T10:51:33.825686",
     "exception": false,
     "start_time": "2023-09-02T10:51:33.713626",
     "status": "completed"
    },
    "tags": []
   },
   "outputs": [
    {
     "data": {
      "text/plain": [
       "0.727254886732175"
      ]
     },
     "execution_count": 16,
     "metadata": {},
     "output_type": "execute_result"
    }
   ],
   "source": [
    "model.score(x_train, y_train) # at the same our model is performing very well with respect to the training datset"
   ]
  },
  {
   "cell_type": "code",
   "execution_count": 17,
   "id": "53c3ca76",
   "metadata": {
    "execution": {
     "iopub.execute_input": "2023-09-02T10:51:33.891108Z",
     "iopub.status.busy": "2023-09-02T10:51:33.890435Z",
     "iopub.status.idle": "2023-09-02T10:51:42.201122Z",
     "shell.execute_reply": "2023-09-02T10:51:42.199675Z"
    },
    "papermill": {
     "duration": 8.346272,
     "end_time": "2023-09-02T10:51:42.205695",
     "exception": false,
     "start_time": "2023-09-02T10:51:33.859423",
     "status": "completed"
    },
    "tags": []
   },
   "outputs": [
    {
     "name": "stderr",
     "output_type": "stream",
     "text": [
      "/opt/conda/lib/python3.10/site-packages/sklearn/linear_model/_coordinate_descent.py:631: ConvergenceWarning: Objective did not converge. You might want to increase the number of iterations, check the scale of the features or consider increasing regularisation. Duality gap: 5.267e+14, tolerance: 3.856e+11\n",
      "  model = cd_fast.enet_coordinate_descent(\n"
     ]
    },
    {
     "data": {
      "text/html": [
       "<style>#sk-container-id-2 {color: black;background-color: white;}#sk-container-id-2 pre{padding: 0;}#sk-container-id-2 div.sk-toggleable {background-color: white;}#sk-container-id-2 label.sk-toggleable__label {cursor: pointer;display: block;width: 100%;margin-bottom: 0;padding: 0.3em;box-sizing: border-box;text-align: center;}#sk-container-id-2 label.sk-toggleable__label-arrow:before {content: \"▸\";float: left;margin-right: 0.25em;color: #696969;}#sk-container-id-2 label.sk-toggleable__label-arrow:hover:before {color: black;}#sk-container-id-2 div.sk-estimator:hover label.sk-toggleable__label-arrow:before {color: black;}#sk-container-id-2 div.sk-toggleable__content {max-height: 0;max-width: 0;overflow: hidden;text-align: left;background-color: #f0f8ff;}#sk-container-id-2 div.sk-toggleable__content pre {margin: 0.2em;color: black;border-radius: 0.25em;background-color: #f0f8ff;}#sk-container-id-2 input.sk-toggleable__control:checked~div.sk-toggleable__content {max-height: 200px;max-width: 100%;overflow: auto;}#sk-container-id-2 input.sk-toggleable__control:checked~label.sk-toggleable__label-arrow:before {content: \"▾\";}#sk-container-id-2 div.sk-estimator input.sk-toggleable__control:checked~label.sk-toggleable__label {background-color: #d4ebff;}#sk-container-id-2 div.sk-label input.sk-toggleable__control:checked~label.sk-toggleable__label {background-color: #d4ebff;}#sk-container-id-2 input.sk-hidden--visually {border: 0;clip: rect(1px 1px 1px 1px);clip: rect(1px, 1px, 1px, 1px);height: 1px;margin: -1px;overflow: hidden;padding: 0;position: absolute;width: 1px;}#sk-container-id-2 div.sk-estimator {font-family: monospace;background-color: #f0f8ff;border: 1px dotted black;border-radius: 0.25em;box-sizing: border-box;margin-bottom: 0.5em;}#sk-container-id-2 div.sk-estimator:hover {background-color: #d4ebff;}#sk-container-id-2 div.sk-parallel-item::after {content: \"\";width: 100%;border-bottom: 1px solid gray;flex-grow: 1;}#sk-container-id-2 div.sk-label:hover label.sk-toggleable__label {background-color: #d4ebff;}#sk-container-id-2 div.sk-serial::before {content: \"\";position: absolute;border-left: 1px solid gray;box-sizing: border-box;top: 0;bottom: 0;left: 50%;z-index: 0;}#sk-container-id-2 div.sk-serial {display: flex;flex-direction: column;align-items: center;background-color: white;padding-right: 0.2em;padding-left: 0.2em;position: relative;}#sk-container-id-2 div.sk-item {position: relative;z-index: 1;}#sk-container-id-2 div.sk-parallel {display: flex;align-items: stretch;justify-content: center;background-color: white;position: relative;}#sk-container-id-2 div.sk-item::before, #sk-container-id-2 div.sk-parallel-item::before {content: \"\";position: absolute;border-left: 1px solid gray;box-sizing: border-box;top: 0;bottom: 0;left: 50%;z-index: -1;}#sk-container-id-2 div.sk-parallel-item {display: flex;flex-direction: column;z-index: 1;position: relative;background-color: white;}#sk-container-id-2 div.sk-parallel-item:first-child::after {align-self: flex-end;width: 50%;}#sk-container-id-2 div.sk-parallel-item:last-child::after {align-self: flex-start;width: 50%;}#sk-container-id-2 div.sk-parallel-item:only-child::after {width: 0;}#sk-container-id-2 div.sk-dashed-wrapped {border: 1px dashed gray;margin: 0 0.4em 0.5em 0.4em;box-sizing: border-box;padding-bottom: 0.4em;background-color: white;}#sk-container-id-2 div.sk-label label {font-family: monospace;font-weight: bold;display: inline-block;line-height: 1.2em;}#sk-container-id-2 div.sk-label-container {text-align: center;}#sk-container-id-2 div.sk-container {/* jupyter's `normalize.less` sets `[hidden] { display: none; }` but bootstrap.min.css set `[hidden] { display: none !important; }` so we also need the `!important` here to be able to override the default hidden behavior on the sphinx rendered scikit-learn.org. See: https://github.com/scikit-learn/scikit-learn/issues/21755 */display: inline-block !important;position: relative;}#sk-container-id-2 div.sk-text-repr-fallback {display: none;}</style><div id=\"sk-container-id-2\" class=\"sk-top-container\"><div class=\"sk-text-repr-fallback\"><pre>Lasso()</pre><b>In a Jupyter environment, please rerun this cell to show the HTML representation or trust the notebook. <br />On GitHub, the HTML representation is unable to render, please try loading this page with nbviewer.org.</b></div><div class=\"sk-container\" hidden><div class=\"sk-item\"><div class=\"sk-estimator sk-toggleable\"><input class=\"sk-toggleable__control sk-hidden--visually\" id=\"sk-estimator-id-2\" type=\"checkbox\" checked><label for=\"sk-estimator-id-2\" class=\"sk-toggleable__label sk-toggleable__label-arrow\">Lasso</label><div class=\"sk-toggleable__content\"><pre>Lasso()</pre></div></div></div></div></div>"
      ],
      "text/plain": [
       "Lasso()"
      ]
     },
     "execution_count": 17,
     "metadata": {},
     "output_type": "execute_result"
    }
   ],
   "source": [
    "# so we can see that our model is facing the problem of overfitting because on training dataset it scores higher and on the\n",
    "# testing dataset it score lower. In simple words our model is overfit to the training dataset and underfit to the testing dataset.\n",
    "# We can solve the problem of overfitting by using L1 0r L2 regularization.  \n",
    "from sklearn.linear_model import Lasso    # Sklearn's Lass regression is the L1 regularization. \n",
    "lasso_model = Lasso()\n",
    "lasso_model.fit(x_train, y_train)\n",
    "# the L1 regularization or the Lasso model will add an absolute θ value in the mean squared error"
   ]
  },
  {
   "cell_type": "code",
   "execution_count": 18,
   "id": "40a9910c",
   "metadata": {
    "execution": {
     "iopub.execute_input": "2023-09-02T10:51:42.268695Z",
     "iopub.status.busy": "2023-09-02T10:51:42.268027Z",
     "iopub.status.idle": "2023-09-02T10:51:42.310128Z",
     "shell.execute_reply": "2023-09-02T10:51:42.308627Z"
    },
    "papermill": {
     "duration": 0.078435,
     "end_time": "2023-09-02T10:51:42.314964",
     "exception": false,
     "start_time": "2023-09-02T10:51:42.236529",
     "status": "completed"
    },
    "tags": []
   },
   "outputs": [
    {
     "data": {
      "text/plain": [
       "0.7009527568387347"
      ]
     },
     "execution_count": 18,
     "metadata": {},
     "output_type": "execute_result"
    }
   ],
   "source": [
    "lasso_model.score(x_test, y_test)\n",
    "# We can see that from -48 percent score to 70 percent score our model is much bette now after using L1 regularization."
   ]
  },
  {
   "cell_type": "code",
   "execution_count": 19,
   "id": "347deab9",
   "metadata": {
    "execution": {
     "iopub.execute_input": "2023-09-02T10:51:42.379128Z",
     "iopub.status.busy": "2023-09-02T10:51:42.378453Z",
     "iopub.status.idle": "2023-09-02T10:51:42.447652Z",
     "shell.execute_reply": "2023-09-02T10:51:42.446120Z"
    },
    "papermill": {
     "duration": 0.106239,
     "end_time": "2023-09-02T10:51:42.452493",
     "exception": false,
     "start_time": "2023-09-02T10:51:42.346254",
     "status": "completed"
    },
    "tags": []
   },
   "outputs": [
    {
     "data": {
      "text/plain": [
       "0.7272489742782413"
      ]
     },
     "execution_count": 19,
     "metadata": {},
     "output_type": "execute_result"
    }
   ],
   "source": [
    "lasso_model.score(x_train, y_train)"
   ]
  },
  {
   "cell_type": "code",
   "execution_count": 20,
   "id": "fe356544",
   "metadata": {
    "execution": {
     "iopub.execute_input": "2023-09-02T10:51:42.517468Z",
     "iopub.status.busy": "2023-09-02T10:51:42.516781Z",
     "iopub.status.idle": "2023-09-02T10:51:42.749979Z",
     "shell.execute_reply": "2023-09-02T10:51:42.748387Z"
    },
    "papermill": {
     "duration": 0.271033,
     "end_time": "2023-09-02T10:51:42.754738",
     "exception": false,
     "start_time": "2023-09-02T10:51:42.483705",
     "status": "completed"
    },
    "tags": []
   },
   "outputs": [
    {
     "data": {
      "text/html": [
       "<style>#sk-container-id-3 {color: black;background-color: white;}#sk-container-id-3 pre{padding: 0;}#sk-container-id-3 div.sk-toggleable {background-color: white;}#sk-container-id-3 label.sk-toggleable__label {cursor: pointer;display: block;width: 100%;margin-bottom: 0;padding: 0.3em;box-sizing: border-box;text-align: center;}#sk-container-id-3 label.sk-toggleable__label-arrow:before {content: \"▸\";float: left;margin-right: 0.25em;color: #696969;}#sk-container-id-3 label.sk-toggleable__label-arrow:hover:before {color: black;}#sk-container-id-3 div.sk-estimator:hover label.sk-toggleable__label-arrow:before {color: black;}#sk-container-id-3 div.sk-toggleable__content {max-height: 0;max-width: 0;overflow: hidden;text-align: left;background-color: #f0f8ff;}#sk-container-id-3 div.sk-toggleable__content pre {margin: 0.2em;color: black;border-radius: 0.25em;background-color: #f0f8ff;}#sk-container-id-3 input.sk-toggleable__control:checked~div.sk-toggleable__content {max-height: 200px;max-width: 100%;overflow: auto;}#sk-container-id-3 input.sk-toggleable__control:checked~label.sk-toggleable__label-arrow:before {content: \"▾\";}#sk-container-id-3 div.sk-estimator input.sk-toggleable__control:checked~label.sk-toggleable__label {background-color: #d4ebff;}#sk-container-id-3 div.sk-label input.sk-toggleable__control:checked~label.sk-toggleable__label {background-color: #d4ebff;}#sk-container-id-3 input.sk-hidden--visually {border: 0;clip: rect(1px 1px 1px 1px);clip: rect(1px, 1px, 1px, 1px);height: 1px;margin: -1px;overflow: hidden;padding: 0;position: absolute;width: 1px;}#sk-container-id-3 div.sk-estimator {font-family: monospace;background-color: #f0f8ff;border: 1px dotted black;border-radius: 0.25em;box-sizing: border-box;margin-bottom: 0.5em;}#sk-container-id-3 div.sk-estimator:hover {background-color: #d4ebff;}#sk-container-id-3 div.sk-parallel-item::after {content: \"\";width: 100%;border-bottom: 1px solid gray;flex-grow: 1;}#sk-container-id-3 div.sk-label:hover label.sk-toggleable__label {background-color: #d4ebff;}#sk-container-id-3 div.sk-serial::before {content: \"\";position: absolute;border-left: 1px solid gray;box-sizing: border-box;top: 0;bottom: 0;left: 50%;z-index: 0;}#sk-container-id-3 div.sk-serial {display: flex;flex-direction: column;align-items: center;background-color: white;padding-right: 0.2em;padding-left: 0.2em;position: relative;}#sk-container-id-3 div.sk-item {position: relative;z-index: 1;}#sk-container-id-3 div.sk-parallel {display: flex;align-items: stretch;justify-content: center;background-color: white;position: relative;}#sk-container-id-3 div.sk-item::before, #sk-container-id-3 div.sk-parallel-item::before {content: \"\";position: absolute;border-left: 1px solid gray;box-sizing: border-box;top: 0;bottom: 0;left: 50%;z-index: -1;}#sk-container-id-3 div.sk-parallel-item {display: flex;flex-direction: column;z-index: 1;position: relative;background-color: white;}#sk-container-id-3 div.sk-parallel-item:first-child::after {align-self: flex-end;width: 50%;}#sk-container-id-3 div.sk-parallel-item:last-child::after {align-self: flex-start;width: 50%;}#sk-container-id-3 div.sk-parallel-item:only-child::after {width: 0;}#sk-container-id-3 div.sk-dashed-wrapped {border: 1px dashed gray;margin: 0 0.4em 0.5em 0.4em;box-sizing: border-box;padding-bottom: 0.4em;background-color: white;}#sk-container-id-3 div.sk-label label {font-family: monospace;font-weight: bold;display: inline-block;line-height: 1.2em;}#sk-container-id-3 div.sk-label-container {text-align: center;}#sk-container-id-3 div.sk-container {/* jupyter's `normalize.less` sets `[hidden] { display: none; }` but bootstrap.min.css set `[hidden] { display: none !important; }` so we also need the `!important` here to be able to override the default hidden behavior on the sphinx rendered scikit-learn.org. See: https://github.com/scikit-learn/scikit-learn/issues/21755 */display: inline-block !important;position: relative;}#sk-container-id-3 div.sk-text-repr-fallback {display: none;}</style><div id=\"sk-container-id-3\" class=\"sk-top-container\"><div class=\"sk-text-repr-fallback\"><pre>Ridge(alpha=50, max_iter=100, tol=0.1)</pre><b>In a Jupyter environment, please rerun this cell to show the HTML representation or trust the notebook. <br />On GitHub, the HTML representation is unable to render, please try loading this page with nbviewer.org.</b></div><div class=\"sk-container\" hidden><div class=\"sk-item\"><div class=\"sk-estimator sk-toggleable\"><input class=\"sk-toggleable__control sk-hidden--visually\" id=\"sk-estimator-id-3\" type=\"checkbox\" checked><label for=\"sk-estimator-id-3\" class=\"sk-toggleable__label sk-toggleable__label-arrow\">Ridge</label><div class=\"sk-toggleable__content\"><pre>Ridge(alpha=50, max_iter=100, tol=0.1)</pre></div></div></div></div></div>"
      ],
      "text/plain": [
       "Ridge(alpha=50, max_iter=100, tol=0.1)"
      ]
     },
     "execution_count": 20,
     "metadata": {},
     "output_type": "execute_result"
    }
   ],
   "source": [
    "# Now we will use the L2 regularization tehnique\n",
    "from sklearn.linear_model import Ridge\n",
    "ridge_model = Ridge(alpha=50, max_iter=100, tol=0.1)\n",
    "ridge_model.fit(x_train, y_train)"
   ]
  },
  {
   "cell_type": "code",
   "execution_count": 21,
   "id": "c7e1a995",
   "metadata": {
    "execution": {
     "iopub.execute_input": "2023-09-02T10:51:42.846608Z",
     "iopub.status.busy": "2023-09-02T10:51:42.846185Z",
     "iopub.status.idle": "2023-09-02T10:51:42.866673Z",
     "shell.execute_reply": "2023-09-02T10:51:42.865473Z"
    },
    "papermill": {
     "duration": 0.064028,
     "end_time": "2023-09-02T10:51:42.870482",
     "exception": false,
     "start_time": "2023-09-02T10:51:42.806454",
     "status": "completed"
    },
    "tags": []
   },
   "outputs": [
    {
     "data": {
      "text/plain": [
       "0.6868500062693859"
      ]
     },
     "execution_count": 21,
     "metadata": {},
     "output_type": "execute_result"
    }
   ],
   "source": [
    "ridge_model.score(x_test,y_test)\n",
    "# after using L2 regularization our model is also much better but it seems that L1 regularization is slightly better then L2 in this case."
   ]
  },
  {
   "cell_type": "code",
   "execution_count": 22,
   "id": "89e2fddd",
   "metadata": {
    "execution": {
     "iopub.execute_input": "2023-09-02T10:51:42.942254Z",
     "iopub.status.busy": "2023-09-02T10:51:42.941548Z",
     "iopub.status.idle": "2023-09-02T10:51:43.000704Z",
     "shell.execute_reply": "2023-09-02T10:51:42.999549Z"
    },
    "papermill": {
     "duration": 0.097185,
     "end_time": "2023-09-02T10:51:43.004635",
     "exception": false,
     "start_time": "2023-09-02T10:51:42.907450",
     "status": "completed"
    },
    "tags": []
   },
   "outputs": [
    {
     "data": {
      "text/plain": [
       "0.6898671688930699"
      ]
     },
     "execution_count": 22,
     "metadata": {},
     "output_type": "execute_result"
    }
   ],
   "source": [
    "ridge_model.score(x_train,y_train)"
   ]
  },
  {
   "cell_type": "code",
   "execution_count": null,
   "id": "5ef442c8",
   "metadata": {
    "papermill": {
     "duration": 0.03122,
     "end_time": "2023-09-02T10:51:43.068463",
     "exception": false,
     "start_time": "2023-09-02T10:51:43.037243",
     "status": "completed"
    },
    "tags": []
   },
   "outputs": [],
   "source": []
  }
 ],
 "kernelspec": {
  "display_name": "Python 3",
  "language": "python",
  "name": "python3"
 },
 "language_info": {
  "codemirror_mode": {
   "name": "ipython",
   "version": 3
  },
  "file_extension": ".py",
  "mimetype": "text/x-python",
  "name": "python",
  "nbconvert_exporter": "python",
  "pygments_lexer": "ipython3",
  "version": "3.6.4"
 },
 "metadata": {
  "kernelspec": {
   "display_name": "Python 3",
   "language": "python",
   "name": "python3"
  },
  "language_info": {
   "codemirror_mode": {
    "name": "ipython",
    "version": 3
   },
   "file_extension": ".py",
   "mimetype": "text/x-python",
   "name": "python",
   "nbconvert_exporter": "python",
   "pygments_lexer": "ipython3",
   "version": "3.10.12"
  },
  "papermill": {
   "default_parameters": {},
   "duration": 17.471241,
   "end_time": "2023-09-02T10:51:43.623769",
   "environment_variables": {},
   "exception": null,
   "input_path": "__notebook__.ipynb",
   "output_path": "__notebook__.ipynb",
   "parameters": {},
   "start_time": "2023-09-02T10:51:26.152528",
   "version": "2.4.0"
  }
 },
 "nbformat": 4,
 "nbformat_minor": 5
}
